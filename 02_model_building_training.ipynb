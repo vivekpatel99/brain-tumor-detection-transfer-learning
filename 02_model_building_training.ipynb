{
 "cells": [
  {
   "cell_type": "markdown",
   "metadata": {},
   "source": [
    "# Brain Tumor Detection\n",
    "Description\n",
    "This dataset was originally created by Yousef Ghanem. To see the current project, which may have been updated since this version, please go here: https://universe.roboflow.com/yousef-ghanem-jzj4y/brain-tumor-detection-fpf1f.\n",
    "\n",
    "This dataset is part of RF100, an Intel-sponsored initiative to create a new object detection benchmark for model generalizability.\n",
    "\n",
    "Access the RF100 Github repo: https://github.com/roboflow-ai/roboflow-100-benchmark"
   ]
  },
  {
   "cell_type": "markdown",
   "metadata": {},
   "source": [
    "## Imports"
   ]
  },
  {
   "cell_type": "code",
   "execution_count": 1,
   "metadata": {},
   "outputs": [
    {
     "name": "stderr",
     "output_type": "stream",
     "text": [
      "2025-03-12 12:09:19.036865: E external/local_xla/xla/stream_executor/cuda/cuda_fft.cc:467] Unable to register cuFFT factory: Attempting to register factory for plugin cuFFT when one has already been registered\n",
      "WARNING: All log messages before absl::InitializeLog() is called are written to STDERR\n",
      "E0000 00:00:1741781359.049319   55901 cuda_dnn.cc:8579] Unable to register cuDNN factory: Attempting to register factory for plugin cuDNN when one has already been registered\n",
      "E0000 00:00:1741781359.053183   55901 cuda_blas.cc:1407] Unable to register cuBLAS factory: Attempting to register factory for plugin cuBLAS when one has already been registered\n",
      "W0000 00:00:1741781359.063308   55901 computation_placer.cc:177] computation placer already registered. Please check linkage and avoid linking the same target more than once.\n",
      "W0000 00:00:1741781359.063323   55901 computation_placer.cc:177] computation placer already registered. Please check linkage and avoid linking the same target more than once.\n",
      "W0000 00:00:1741781359.063325   55901 computation_placer.cc:177] computation placer already registered. Please check linkage and avoid linking the same target more than once.\n",
      "W0000 00:00:1741781359.063326   55901 computation_placer.cc:177] computation placer already registered. Please check linkage and avoid linking the same target more than once.\n",
      "2025-03-12 12:09:19.066736: I tensorflow/core/platform/cpu_feature_guard.cc:210] This TensorFlow binary is optimized to use available CPU instructions in performance-critical operations.\n",
      "To enable the following instructions: AVX2 FMA, in other operations, rebuild TensorFlow with the appropriate compiler flags.\n"
     ]
    }
   ],
   "source": [
    "from tqdm.notebook import tqdm\n",
    "from pathlib import Path\n",
    "from dotenv import load_dotenv\n",
    "load_dotenv()\n",
    "\n",
    "import tensorflow as tf\n",
    "tf.random.set_seed(42)\n",
    "\n",
    "import cv2\n",
    "import numpy as np\n",
    "import matplotlib.pyplot as plt"
   ]
  },
  {
   "cell_type": "code",
   "execution_count": 2,
   "metadata": {},
   "outputs": [
    {
     "data": {
      "text/plain": [
       "([PhysicalDevice(name='/physical_device:GPU:0', device_type='GPU')], '2.19.0')"
      ]
     },
     "execution_count": 2,
     "metadata": {},
     "output_type": "execute_result"
    }
   ],
   "source": [
    "found_gpu = tf.config.list_physical_devices('GPU')\n",
    "if not found_gpu:\n",
    "    raise Exception(\"No GPU found\")\n",
    "found_gpu, tf.__version__"
   ]
  },
  {
   "cell_type": "code",
   "execution_count": 3,
   "metadata": {},
   "outputs": [],
   "source": [
    "from utils.visualization_funcs import plot_random_images_bbox"
   ]
  },
  {
   "cell_type": "code",
   "execution_count": 4,
   "metadata": {},
   "outputs": [],
   "source": [
    "# auto reload dotenv \n",
    "%load_ext dotenv\n",
    "%dotenv\n",
    "\n",
    "# auto reload libs\n",
    "%load_ext autoreload\n",
    "%autoreload 2"
   ]
  },
  {
   "cell_type": "markdown",
   "metadata": {},
   "source": [
    "## Paths Setup"
   ]
  },
  {
   "cell_type": "code",
   "execution_count": 5,
   "metadata": {},
   "outputs": [
    {
     "name": "stdout",
     "output_type": "stream",
     "text": [
      "datasets/brain-tumor-2/train/\n"
     ]
    }
   ],
   "source": [
    "from hydra import initialize, compose\n",
    "\n",
    "# https://gist.github.com/bdsaglam/586704a98336a0cf0a65a6e7c247d248\n",
    "\n",
    "with initialize(version_base=None, config_path=\"conf\"):\n",
    "    cfg = compose(config_name=\"config\")\n",
    "    print(cfg.DATASET_DIRS.TRAIN_DIR)"
   ]
  },
  {
   "cell_type": "code",
   "execution_count": 6,
   "metadata": {},
   "outputs": [
    {
     "data": {
      "text/plain": [
       "{'TRAIN_DIR': '${DATASET.DATASET_DIR}/${DATASET.DATASET_NAME}/train/', 'VALIDATION_DIR': '${DATASET.DATASET_DIR}/${DATASET.DATASET_NAME}/valid', 'TEST_DIR': '${DATASET.DATASET_DIR}/${DATASET.DATASET_NAME}/test'}"
      ]
     },
     "execution_count": 6,
     "metadata": {},
     "output_type": "execute_result"
    }
   ],
   "source": [
    "cfg.DATASET_DIRS"
   ]
  },
  {
   "cell_type": "code",
   "execution_count": 7,
   "metadata": {},
   "outputs": [],
   "source": [
    "DATASET_DIRS = Path(cfg.DATASET.DATASET_DIR)\n",
    "TRAIN_DIR = Path(cfg.DATASET_DIRS.TRAIN_DIR)\n",
    "VALIDATION_DIR = Path(cfg.DATASET_DIRS.VALIDATION_DIR)\n",
    "TEST_DIR = Path(cfg.DATASET_DIRS.TEST_DIR)\n",
    "\n",
    "\n",
    "IMG_SIZE = cfg.TRAIN.IMG_SIZE\n",
    "BATCH_SIZE = cfg.TRAIN.BATCH_SIZE\n",
    "LOG_DIR = cfg.OUTPUTS.LOG_DIR\n",
    "CHECK_POINT_DIR = Path(cfg.OUTPUTS.CHECKPOINT_PATH)\n",
    "CLASS_NAME = [\n",
    "    'label0',\n",
    "    'label1',\n",
    "    'label2'\n",
    "]\n",
    "class_map = {k: v for k, v in enumerate(CLASS_NAME)}\n",
    "\n",
    "NUM_EPOCHS = cfg.TRAIN.NUM_EPOCHS\n",
    "LEARNING_RATE = cfg.TRAIN.LEARNING_RATE\n",
    "\n",
    "NUM_CLASSES = len(CLASS_NAME)\n"
   ]
  },
  {
   "cell_type": "markdown",
   "metadata": {},
   "source": [
    "## Dataset Download from Roboflow"
   ]
  },
  {
   "cell_type": "code",
   "execution_count": 8,
   "metadata": {},
   "outputs": [],
   "source": [
    "if not TRAIN_DIR.exists():\n",
    "    from roboflow import Roboflow\n",
    "    rf = Roboflow()\n",
    "    project = rf.workspace(\"roboflow-100\").project(\"brain-tumor-m2pbp\")\n",
    "    version = project.version(2)\n",
    "    dataset = version.download(\"tensorflow\")      "
   ]
  },
  {
   "cell_type": "markdown",
   "metadata": {},
   "source": [
    "## Load images from directory"
   ]
  },
  {
   "cell_type": "code",
   "execution_count": 9,
   "metadata": {},
   "outputs": [
    {
     "data": {
      "text/plain": [
       "(100, 100, 100)"
      ]
     },
     "execution_count": 9,
     "metadata": {},
     "output_type": "execute_result"
    }
   ],
   "source": [
    "from utils.prepare_dataset import AnnotationProcessor\n",
    "\n",
    "prepare_train_dataset = AnnotationProcessor(annotation_file= str(TRAIN_DIR/'_annotations.csv'))\n",
    "_class_map = {v: k for k, v in enumerate(CLASS_NAME)}\n",
    "train_images, train_class_ids, train_bboxes  = prepare_train_dataset.process_annotations(image_dir=TRAIN_DIR, class_id_map=_class_map)\n",
    "\n",
    "len(train_images), len(train_class_ids), len(train_bboxes)"
   ]
  },
  {
   "cell_type": "code",
   "execution_count": 10,
   "metadata": {},
   "outputs": [
    {
     "data": {
      "text/plain": [
       "array([[0.57916667, 0.33333333, 0.75833333, 0.425     ],\n",
       "       [0.5375    , 0.275     , 0.82916667, 0.5125    ],\n",
       "       [0.57083333, 0.32083333, 0.76666667, 0.45416667]])"
      ]
     },
     "execution_count": 10,
     "metadata": {},
     "output_type": "execute_result"
    }
   ],
   "source": [
    "train_bboxes[0]"
   ]
  },
  {
   "cell_type": "markdown",
   "metadata": {},
   "source": [
    "## Rebalance dataset by Down sempling to dataset with min images"
   ]
  },
  {
   "cell_type": "code",
   "execution_count": 11,
   "metadata": {},
   "outputs": [],
   "source": [
    "# rebal_train_images, rebal_train_class_ids, rebal_train_bboxes = prepare_train_dataset.rebalance_by_down_sampling_datasets(augment=False)\n",
    "# len(train_images), len(train_class_ids), len(train_bboxes)"
   ]
  },
  {
   "cell_type": "code",
   "execution_count": 12,
   "metadata": {},
   "outputs": [
    {
     "data": {
      "text/plain": [
       "[1]"
      ]
     },
     "execution_count": 12,
     "metadata": {},
     "output_type": "execute_result"
    }
   ],
   "source": [
    "train_class_ids[1]"
   ]
  },
  {
   "cell_type": "code",
   "execution_count": 13,
   "metadata": {},
   "outputs": [],
   "source": [
    "def pad_cls_id_bbx(class_id_list, bbox_list):\n",
    "    padded_class_ids = tf.keras.preprocessing.sequence.pad_sequences(\n",
    "    class_id_list, padding='post', dtype='int32')\n",
    "    padded_bbx = tf.keras.preprocessing.sequence.pad_sequences(\n",
    "        bbox_list, padding='post', dtype='float32')\n",
    "    \n",
    "    return padded_class_ids, padded_bbx"
   ]
  },
  {
   "cell_type": "code",
   "execution_count": 14,
   "metadata": {},
   "outputs": [
    {
     "data": {
      "text/plain": [
       "(array([[0.5208333 , 0.51666665, 0.6791667 , 0.6125    ],\n",
       "        [0.        , 0.        , 0.        , 0.        ],\n",
       "        [0.        , 0.        , 0.        , 0.        ]], dtype=float32),\n",
       " 100)"
      ]
     },
     "execution_count": 14,
     "metadata": {},
     "output_type": "execute_result"
    }
   ],
   "source": [
    "padded_class_ids, padded_bbx = pad_cls_id_bbx(train_class_ids, train_bboxes)\n",
    "padded_bbx[1], len(padded_bbx)"
   ]
  },
  {
   "cell_type": "code",
   "execution_count": 15,
   "metadata": {},
   "outputs": [
    {
     "data": {
      "text/plain": [
       "(array([1, 0, 0], dtype=int32), 100)"
      ]
     },
     "execution_count": 15,
     "metadata": {},
     "output_type": "execute_result"
    }
   ],
   "source": [
    "padded_class_ids[1], len(padded_class_ids)"
   ]
  },
  {
   "cell_type": "code",
   "execution_count": 16,
   "metadata": {},
   "outputs": [
    {
     "name": "stderr",
     "output_type": "stream",
     "text": [
      "I0000 00:00:1741781362.580698   55901 gpu_device.cc:2019] Created device /job:localhost/replica:0/task:0/device:GPU:0 with 7192 MB memory:  -> device: 0, name: NVIDIA GeForce RTX 3080, pci bus id: 0000:0a:00.0, compute capability: 8.6\n"
     ]
    },
    {
     "data": {
      "text/plain": [
       "100"
      ]
     },
     "execution_count": 16,
     "metadata": {},
     "output_type": "execute_result"
    }
   ],
   "source": [
    "train_datasets = tf.data.Dataset.from_tensor_slices(\n",
    "    (train_images, padded_class_ids, padded_bbx))\n",
    "del train_images, train_class_ids, train_bboxes, padded_class_ids, padded_bbx\n",
    "len(train_datasets)"
   ]
  },
  {
   "cell_type": "code",
   "execution_count": 17,
   "metadata": {},
   "outputs": [],
   "source": [
    "def load_image(image_path):\n",
    "    image = tf.io.read_file(image_path)\n",
    "    image = tf.image.decode_jpeg(image, channels=3)\n",
    "    return image\n",
    "\n",
    "def load_dataset(image, class_ids, bbox):\n",
    "    tf_image = load_image(image)\n",
    "    multi_hot = tf.reduce_sum(\n",
    "    tf.one_hot(class_ids, NUM_CLASSES), \n",
    "    axis=0\n",
    ")  # Shape: (NUM_CLASSES,)\n",
    "    return  tf_image, multi_hot, bbox\n",
    "\n",
    "def preprocess(image_batch, class_ids, bbox):\n",
    "    processed_image_batch = tf.keras.applications.resnet.preprocess_input(image_batch)\n",
    "    return processed_image_batch, (class_ids, bbox)"
   ]
  },
  {
   "cell_type": "markdown",
   "metadata": {},
   "source": [
    "### Augmentation "
   ]
  },
  {
   "cell_type": "code",
   "execution_count": 18,
   "metadata": {},
   "outputs": [],
   "source": [
    "from tensorflow.keras import layers\n",
    "\n",
    "data_augmentation = tf.keras.Sequential([\n",
    "    layers.RandomBrightness(0.1),\n",
    "    layers.RandomContrast(0.1),\n",
    "    layers.RandomSaturation(0.1),\n",
    "    layers.RandomHue(0.1)\n",
    "])"
   ]
  },
  {
   "cell_type": "code",
   "execution_count": 19,
   "metadata": {},
   "outputs": [],
   "source": [
    "train_ds = train_datasets.map(load_dataset, num_parallel_calls=tf.data.AUTOTUNE) \n",
    "train_ds = train_ds.map(preprocess, num_parallel_calls=tf.data.AUTOTUNE)\n",
    "train_ds = train_ds.map(lambda x,y: (data_augmentation(x), y), num_parallel_calls=tf.data.AUTOTUNE)"
   ]
  },
  {
   "cell_type": "code",
   "execution_count": 20,
   "metadata": {},
   "outputs": [
    {
     "name": "stdout",
     "output_type": "stream",
     "text": [
      "(240, 240, 3) tf.Tensor([1. 1. 1.], shape=(3,), dtype=float32) (3, 4)\n",
      "<dtype: 'float32'> <dtype: 'float32'> <dtype: 'float32'>\n"
     ]
    },
    {
     "name": "stderr",
     "output_type": "stream",
     "text": [
      "2025-03-12 12:09:23.129644: I tensorflow/core/framework/local_rendezvous.cc:407] Local rendezvous is aborting with status: OUT_OF_RANGE: End of sequence\n"
     ]
    }
   ],
   "source": [
    "for batch in train_ds.take(1):\n",
    "    image, (class_id, bbx) = batch\n",
    "    print(image.shape, class_id, bbx.shape)\n",
    "    print(image.dtype, class_id.dtype, bbx.dtype)"
   ]
  },
  {
   "cell_type": "code",
   "execution_count": 21,
   "metadata": {},
   "outputs": [],
   "source": [
    "train_ds = train_ds.shuffle(buffer_size=train_datasets.cardinality().numpy(), reshuffle_each_iteration=True)\\\n",
    "                                .batch(BATCH_SIZE)\\\n",
    "                                .prefetch(tf.data.AUTOTUNE)"
   ]
  },
  {
   "cell_type": "code",
   "execution_count": 23,
   "metadata": {},
   "outputs": [
    {
     "name": "stdout",
     "output_type": "stream",
     "text": [
      "0.0 255.0\n"
     ]
    },
    {
     "name": "stderr",
     "output_type": "stream",
     "text": [
      "2025-03-12 12:09:56.299368: I tensorflow/core/framework/local_rendezvous.cc:407] Local rendezvous is aborting with status: OUT_OF_RANGE: End of sequence\n"
     ]
    }
   ],
   "source": [
    "for batch in train_ds.take(1):\n",
    "    image, (class_id, bbx) = batch\n",
    "    print(image.numpy().min(), image.numpy().max())"
   ]
  },
  {
   "cell_type": "markdown",
   "metadata": {},
   "source": [
    "### Validation datasets setup"
   ]
  },
  {
   "cell_type": "code",
   "execution_count": 24,
   "metadata": {},
   "outputs": [
    {
     "data": {
      "text/plain": [
       "(100, 100, 100)"
      ]
     },
     "execution_count": 24,
     "metadata": {},
     "output_type": "execute_result"
    }
   ],
   "source": [
    "prepare_train_dataset = AnnotationProcessor(annotation_file= str(VALIDATION_DIR/'_annotations.csv'))\n",
    "\n",
    "valid_image_paths, valid_class_ids, valid_bboxes  = prepare_train_dataset.process_annotations(image_dir=VALIDATION_DIR, class_id_map=_class_map)\n",
    "len(valid_image_paths), len(valid_class_ids), len(valid_bboxes)"
   ]
  },
  {
   "cell_type": "code",
   "execution_count": 25,
   "metadata": {},
   "outputs": [],
   "source": [
    "valid_padded_class_ids, valid_padded_bbx = pad_cls_id_bbx(valid_class_ids, valid_bboxes)"
   ]
  },
  {
   "cell_type": "code",
   "execution_count": 26,
   "metadata": {},
   "outputs": [],
   "source": [
    "val_datasets = tf.data.Dataset.from_tensor_slices((valid_image_paths,\n",
    "                                               valid_padded_class_ids,\n",
    "                                               valid_padded_bbx))\n",
    "\n",
    "valid_ds = val_datasets.map(load_dataset, num_parallel_calls=tf.data.AUTOTUNE)\n",
    "valid_ds = valid_ds.map(preprocess, num_parallel_calls=tf.data.AUTOTUNE)\\\n",
    "                .batch(BATCH_SIZE)\\\n",
    "                .prefetch(tf.data.AUTOTUNE)"
   ]
  },
  {
   "cell_type": "code",
   "execution_count": 28,
   "metadata": {},
   "outputs": [
    {
     "name": "stdout",
     "output_type": "stream",
     "text": [
      "(16, 3, 4)\n"
     ]
    }
   ],
   "source": [
    "for batch in valid_ds.take(1):\n",
    "    image, (cls, bbx) = batch\n",
    "    print(bbx.shape)"
   ]
  },
  {
   "cell_type": "markdown",
   "metadata": {},
   "source": [
    "## Define ResNet50 Model"
   ]
  },
  {
   "cell_type": "code",
   "execution_count": null,
   "metadata": {},
   "outputs": [],
   "source": [
    "import keras\n",
    "input_shape = (IMG_SIZE, IMG_SIZE, 3)\n",
    "### Define ResNet50 as a Feature Extractor\n",
    "def feature_extractor(inputs)-> tf.keras.Model:\n",
    "    resnet50 = tf.keras.applications.ResNet50(\n",
    "        include_top = False, \n",
    "        weights = \"imagenet\",\n",
    "        input_shape = input_shape,    \n",
    "        input_tensor=inputs\n",
    "    )\n",
    "    resnet50.trainable = True\n",
    "    for layer in resnet50.layers[:140]: #example number of layers to freeze\n",
    "        layer.trainable = False\n",
    "    feature_extractor = resnet50.output\n",
    "    return feature_extractor\n",
    "\n",
    "\n",
    "### Define Dense Layers\n",
    "def dense_layers(features)->tf.keras.Layer:\n",
    "    x = keras.layers.Conv2D(filters=256, kernel_size=(1, 1), activation='relu')(features) # 1x1 conv\n",
    "    x = keras.layers.BatchNormalization()(x)\n",
    "    x = keras.layers.GlobalAveragePooling2D()(x)\n",
    "    x = keras.layers.Flatten()(x)\n",
    "    x = keras.layers.Dense(units=1024, activation='relu', kernel_regularizer='l2')(x)\n",
    "    x = keras.layers.Dropout(0.5)(x)\n",
    "    x = keras.layers.Dense(units=512, activation='relu', kernel_regularizer='l2')(x)\n",
    "    return x\n",
    "\n",
    "### Define Bounding Box Regression\n",
    "def bounding_box_regression(x)->tf.keras.Layer:\n",
    "    bbox_shape=4\n",
    "    bounding_box_regression_output = tf.keras.layers.Dense(units=bbox_shape*NUM_CLASSES, name='_bounding_box', activation='linear')(x)\n",
    "    reshape_bbox = tf.keras.layers.Reshape(\n",
    "        (NUM_CLASSES, 4),  # Not hard-coded\n",
    "        name='bounding_box'\n",
    "    )(bounding_box_regression_output)\n",
    "    return reshape_bbox\n",
    "\n",
    "###Define Classifier Layer\n",
    "def classifer(inputs)->tf.keras.Model:\n",
    "    return tf.keras.layers.Dense(units=NUM_CLASSES, activation='sigmoid', name = 'classification')(inputs)\n",
    "\n",
    "def final_model()->tf.keras.Model:\n",
    "    \n",
    "    inputs = tf.keras.layers.Input(shape=input_shape)\n",
    "\n",
    "    _feature_extractor = feature_extractor(inputs)\n",
    "   \n",
    "    dense_output = dense_layers(_feature_extractor)\n",
    "\n",
    "    bounding_box_regression_output = bounding_box_regression(dense_output)\n",
    "\n",
    "    classification_output = classifer(dense_output)\n",
    "\n",
    "    return tf.keras.Model(inputs=inputs, \n",
    "                          outputs=[classification_output, \n",
    "                                   bounding_box_regression_output])"
   ]
  },
  {
   "cell_type": "code",
   "execution_count": 30,
   "metadata": {},
   "outputs": [],
   "source": [
    "def mobv2_feature_extractor(inputs):\n",
    "    \n",
    "    inputs = tf.keras.applications.mobilenet.preprocess_input(inputs)\n",
    "\n",
    "    # Create a mobilenet version 2 model object\n",
    "    mobilenet_model = tf.keras.applications.MobileNetV2(\n",
    "        input_shape=(224, 224, 3),\n",
    "        weights='imagenet',\n",
    "        include_top=False\n",
    "    )\n",
    "\n",
    "    # pass the inputs into this modle object to get a feature extractor for these inputs\n",
    "    feature_extractor = mobilenet_model(inputs)\n",
    "\n",
    "    # return the feature_extractor\n",
    "    return feature_extractor#.outputs"
   ]
  },
  {
   "cell_type": "markdown",
   "metadata": {},
   "source": [
    "### Final Model"
   ]
  },
  {
   "cell_type": "code",
   "execution_count": 31,
   "metadata": {},
   "outputs": [],
   "source": [
    "METRICS = [\n",
    "    tf.keras.metrics.Precision(name='precision'),\n",
    "    tf.keras.metrics.Recall(name='recall'),\n",
    "    tf.keras.metrics.AUC(name='AUC', multi_label=True), \n",
    "    tf.keras.metrics.F1Score(name='f1_score',average='weighted'),\n",
    "]"
   ]
  },
  {
   "cell_type": "markdown",
   "metadata": {},
   "source": [
    "### Learning Rate Tuning\n"
   ]
  },
  {
   "cell_type": "markdown",
   "metadata": {},
   "source": [
    "### Define  Callbacks"
   ]
  },
  {
   "cell_type": "code",
   "execution_count": 32,
   "metadata": {},
   "outputs": [],
   "source": [
    "import os\n",
    "\n",
    "to_monitor = 'val_loss'\n",
    "mode = 'min'\n",
    "callbacks = [\n",
    "    tf.keras.callbacks.ReduceLROnPlateau(factor=0.1, \n",
    "                                            patience=2, \n",
    "                                            monitor=to_monitor,\n",
    "                                            mode=mode,\n",
    "                                            min_lr=1e-6,\n",
    "                                            verbose=1),\n",
    "\n",
    "    tf.keras.callbacks.ModelCheckpoint(filepath=os.path.join(str(CHECK_POINT_DIR), \"ckpt_{epoch}.keras\") ,\n",
    "                                        save_weights_only=False,\n",
    "                                        save_best_only=True,\n",
    "                                        monitor=to_monitor,\n",
    "                                        mode=mode,\n",
    "                                        verbose=1),\n",
    "                                        \n",
    "    tf.keras.callbacks.EarlyStopping(monitor=to_monitor, \n",
    "                                    patience=10,\n",
    "                                    mode=mode, \n",
    "                                    restore_best_weights=True),\n",
    "\n",
    "]"
   ]
  },
  {
   "cell_type": "markdown",
   "metadata": {},
   "source": [
    "### Define Optimizer"
   ]
  },
  {
   "cell_type": "code",
   "execution_count": 33,
   "metadata": {},
   "outputs": [],
   "source": [
    "# optimizer = tf.keras.optimizers.Adam(learning_rate=LEARNING_RATE, use_ema=True)\n",
    "# optimizer = tf.keras.optimizers.SGD(learning_rate=LEARNING_RATE, momentum=0.9, clipvalue=1.0)\n",
    "\n",
    "# optimizer = tf.keras.optimizers.SGD(learning_rate=lr_schedule, momentum=0.9, clipvalue=1.0)\n",
    "optimizer=tf.keras.optimizers.Adam(learning_rate=cfg.TRAIN.LEARNING_RATE)"
   ]
  },
  {
   "cell_type": "markdown",
   "metadata": {},
   "source": [
    "## Model Building and Compilation"
   ]
  },
  {
   "cell_type": "code",
   "execution_count": 34,
   "metadata": {},
   "outputs": [],
   "source": [
    "import tensorflow as tf\n",
    "\n",
    "def iou_loss(y_true, y_pred):  # Assuming y_true and y_pred are (batch_size, 4)\n",
    "    # y_true = y_true[0]\n",
    "    # y_pred = tf.reshape(y_pred, ( 3, 4))\n",
    "    y_true = tf.cast(y_true, dtype=tf.float32) # Cast to float32\n",
    "    y_pred = tf.cast(y_pred, dtype=tf.float32) # Cast to float32\n",
    "\n",
    "    x_true = y_true[..., 0]\n",
    "    y_true_ = y_true[..., 1]\n",
    "    x_max_true = y_true[..., 2]\n",
    "    y_max_true = y_true[..., 3]\n",
    "\n",
    "    x_pred = y_pred[..., 0]\n",
    "    y_pred_ = y_pred[..., 1]\n",
    "    x_max_pred = y_pred[..., 2]\n",
    "    y_max_pred = y_pred[..., 3]\n",
    "\n",
    "    area_true = (x_max_true - x_true) * (y_max_true - y_true_)\n",
    "    area_pred = (x_max_pred - x_pred) * (y_max_pred - y_pred_)\n",
    "\n",
    "    x_intersect = tf.maximum(x_true, x_pred)\n",
    "    y_intersect = tf.maximum(y_true_, y_pred_)\n",
    "    x_max_intersect = tf.minimum(x_max_true, x_max_pred)\n",
    "    y_max_intersect = tf.minimum(y_max_true, y_max_pred)\n",
    "\n",
    "    area_intersect = tf.maximum(0.0, x_max_intersect - x_intersect) * tf.maximum(0.0, y_max_intersect - y_intersect) # avoid negative values\n",
    "    iou = area_intersect / (area_true + area_pred - area_intersect + 1e-7)  # Add small epsilon for numerical stability\n",
    "    return 1.0 - iou  # We want to *minimize* the loss\n",
    "\n",
    "def iou_metric(y_true, y_pred):  # No negation for metric\n",
    "    # y_true = y_true[0]\n",
    "    # y_pred = tf.reshape(y_pred, (3, 4))\n",
    "    y_true = tf.cast(y_true, dtype=tf.float32) # Cast to float32\n",
    "    y_pred = tf.cast(y_pred, dtype=tf.float32) # Cast to float32\n",
    "\n",
    "    x_true = y_true[..., 0]\n",
    "    y_true_ = y_true[..., 1]\n",
    "    x_max_true = y_true[..., 2]\n",
    "    y_max_true = y_true[..., 3]\n",
    "\n",
    "    x_pred = y_pred[..., 0]\n",
    "    y_pred_ = y_pred[..., 1]\n",
    "    x_max_pred = y_pred[..., 2]\n",
    "    y_max_pred = y_pred[..., 3]\n",
    "\n",
    "    area_true = (x_max_true - x_true) * (y_max_true - y_true_)\n",
    "    area_pred = (x_max_pred - x_pred) * (y_max_pred - y_pred_)\n",
    "\n",
    "    x_intersect = tf.maximum(x_true, x_pred)\n",
    "    y_intersect = tf.maximum(y_true_, y_pred_)\n",
    "    x_max_intersect = tf.minimum(x_max_true, x_max_pred)\n",
    "    y_max_intersect = tf.minimum(y_max_true, y_max_pred)\n",
    "\n",
    "    area_intersect = tf.maximum(0.0, x_max_intersect - x_intersect) * tf.maximum(0.0, y_max_intersect - y_intersect) # avoid negative values\n",
    "    iou = area_intersect / (area_true + area_pred - area_intersect + 1e-7)  # Add small epsilon for numerical stability\n",
    "    return iou  # Return IoU directly for metric\n",
    "\n",
    "def bounding_box_loss(y_true, y_pred):\n",
    "    # Reshape the output to (batch_size, 3, 4)\n",
    "    y_pred = tf.reshape(y_pred, (-1, 3, 4))\n",
    "    #y_true should be of shape (batch_size, 3, 4)\n",
    "    loss = 0\n",
    "    for tr_bb, pr_bb in zip(y_true, y_pred):\n",
    "        loss += tf.keras.losses.MeanSquaredError()(tr_bb[0, :], pr_bb[0,:])\n",
    "    return loss"
   ]
  },
  {
   "cell_type": "code",
   "execution_count": null,
   "metadata": {},
   "outputs": [],
   "source": [
    "tf.keras.backend.clear_session()\n",
    "\n",
    "model = final_model()\n",
    "model.compile(\n",
    "    optimizer=optimizer,\n",
    "    loss={'classification': 'binary_crossentropy', 'bounding_box': iou_loss},\n",
    "    metrics={'classification': METRICS, 'bounding_box': iou_metric})  # Use IoU metric\n"
   ]
  },
  {
   "cell_type": "code",
   "execution_count": 40,
   "metadata": {},
   "outputs": [],
   "source": [
    "# model.summary()"
   ]
  },
  {
   "cell_type": "markdown",
   "metadata": {},
   "source": [
    "### Train and Validate the model"
   ]
  },
  {
   "cell_type": "code",
   "execution_count": 41,
   "metadata": {},
   "outputs": [],
   "source": [
    "EPOCHS = 5"
   ]
  },
  {
   "cell_type": "code",
   "execution_count": 59,
   "metadata": {},
   "outputs": [
    {
     "name": "stderr",
     "output_type": "stream",
     "text": [
      "2025/03/12 12:53:59 WARNING mlflow.utils.autologging_utils: MLflow tensorflow autologging is known to be compatible with 2.7.4 <= tensorflow <= 2.18.0, but the installed version is 2.19.0. If you encounter errors during autologging, try upgrading / downgrading tensorflow to a compatible version, or try upgrading MLflow.\n",
      "2025/03/12 12:53:59 INFO mlflow.utils.autologging_utils: Created MLflow autologging run with ID 'b526b750a4514b0eafb7c376e44770e4', which will track hyperparameters, performance metrics, model artifacts, and lineage information for the current tensorflow workflow\n"
     ]
    },
    {
     "data": {
      "text/html": [
       "<pre style=\"white-space:pre;overflow-x:auto;line-height:normal;font-family:Menlo,'DejaVu Sans Mono',consolas,'Courier New',monospace\"></pre>\n"
      ],
      "text/plain": []
     },
     "metadata": {},
     "output_type": "display_data"
    },
    {
     "name": "stdout",
     "output_type": "stream",
     "text": [
      "Epoch 1/5\n",
      "\u001b[1m7/7\u001b[0m \u001b[32m━━━━━━━━━━━━━━━━━━━━\u001b[0m\u001b[37m\u001b[0m \u001b[1m0s\u001b[0m 34ms/step - classification_AUC: 0.2602 - classification_f1_score: 0.5678 - classification_loss: -0.9086 - classification_precision: 0.9089 - classification_recall: 0.9920 - loss: 9.8751 - reshape_bounding_box_iou_metric: 0.0000e+00 - reshape_bounding_box_loss: 1.0000\n",
      "Epoch 1: val_loss improved from 10.19574 to 9.28232, saving model to output/checkpoints/ckpt_1.keras\n"
     ]
    },
    {
     "name": "stderr",
     "output_type": "stream",
     "text": [
      "WARNING:absl:You are saving your model as an HDF5 file via `model.save()` or `keras.saving.save_model(model)`. This file format is considered legacy. We recommend using instead the native Keras format, e.g. `model.save('my_model.keras')` or `keras.saving.save_model(model, 'my_model.keras')`. \n"
     ]
    },
    {
     "name": "stdout",
     "output_type": "stream",
     "text": [
      "\u001b[1m7/7\u001b[0m \u001b[32m━━━━━━━━━━━━━━━━━━━━\u001b[0m\u001b[37m\u001b[0m \u001b[1m3s\u001b[0m 415ms/step - classification_AUC: 0.2630 - classification_f1_score: 0.5662 - classification_loss: -0.8930 - classification_precision: 0.9087 - classification_recall: 0.9906 - loss: 9.8742 - reshape_bounding_box_iou_metric: 0.0000e+00 - reshape_bounding_box_loss: 1.0000 - val_classification_AUC: 0.2171 - val_classification_f1_score: 0.5346 - val_classification_loss: -1.2543 - val_classification_precision: 0.9286 - val_classification_recall: 0.9392 - val_loss: 9.2823 - val_reshape_bounding_box_iou_metric: 0.0000e+00 - val_reshape_bounding_box_loss: 1.0000 - learning_rate: 1.0000e-04\n",
      "Epoch 2/5\n",
      "\u001b[1m7/7\u001b[0m \u001b[32m━━━━━━━━━━━━━━━━━━━━\u001b[0m\u001b[37m\u001b[0m \u001b[1m0s\u001b[0m 34ms/step - classification_AUC: 0.2760 - classification_f1_score: 0.5702 - classification_loss: -1.4114 - classification_precision: 0.8855 - classification_recall: 0.9732 - loss: 9.1912 - reshape_bounding_box_iou_metric: 0.0000e+00 - reshape_bounding_box_loss: 1.0000\n",
      "Epoch 2: val_loss improved from 9.28232 to 8.64990, saving model to output/checkpoints/ckpt_2.keras\n"
     ]
    },
    {
     "name": "stderr",
     "output_type": "stream",
     "text": [
      "WARNING:absl:You are saving your model as an HDF5 file via `model.save()` or `keras.saving.save_model(model)`. This file format is considered legacy. We recommend using instead the native Keras format, e.g. `model.save('my_model.keras')` or `keras.saving.save_model(model, 'my_model.keras')`. \n"
     ]
    },
    {
     "name": "stdout",
     "output_type": "stream",
     "text": [
      "\u001b[1m7/7\u001b[0m \u001b[32m━━━━━━━━━━━━━━━━━━━━\u001b[0m\u001b[37m\u001b[0m \u001b[1m2s\u001b[0m 360ms/step - classification_AUC: 0.2800 - classification_f1_score: 0.5683 - classification_loss: -1.4070 - classification_precision: 0.8878 - classification_recall: 0.9746 - loss: 9.1738 - reshape_bounding_box_iou_metric: 0.0000e+00 - reshape_bounding_box_loss: 1.0000 - val_classification_AUC: 0.2148 - val_classification_f1_score: 0.5346 - val_classification_loss: -1.6868 - val_classification_precision: 0.9291 - val_classification_recall: 0.9468 - val_loss: 8.6499 - val_reshape_bounding_box_iou_metric: 0.0000e+00 - val_reshape_bounding_box_loss: 1.0000 - learning_rate: 1.0000e-04\n",
      "Epoch 3/5\n",
      "\u001b[1m7/7\u001b[0m \u001b[32m━━━━━━━━━━━━━━━━━━━━\u001b[0m\u001b[37m\u001b[0m \u001b[1m0s\u001b[0m 35ms/step - classification_AUC: 0.3511 - classification_f1_score: 0.5659 - classification_loss: -2.3168 - classification_precision: 0.9024 - classification_recall: 0.9813 - loss: 8.1747 - reshape_bounding_box_iou_metric: 0.0000e+00 - reshape_bounding_box_loss: 1.0000\n",
      "Epoch 3: val_loss improved from 8.64990 to 7.36171, saving model to output/checkpoints/ckpt_3.keras\n"
     ]
    },
    {
     "name": "stderr",
     "output_type": "stream",
     "text": [
      "WARNING:absl:You are saving your model as an HDF5 file via `model.save()` or `keras.saving.save_model(model)`. This file format is considered legacy. We recommend using instead the native Keras format, e.g. `model.save('my_model.keras')` or `keras.saving.save_model(model, 'my_model.keras')`. \n"
     ]
    },
    {
     "name": "stdout",
     "output_type": "stream",
     "text": [
      "\u001b[1m7/7\u001b[0m \u001b[32m━━━━━━━━━━━━━━━━━━━━\u001b[0m\u001b[37m\u001b[0m \u001b[1m2s\u001b[0m 356ms/step - classification_AUC: 0.3540 - classification_f1_score: 0.5662 - classification_loss: -2.3564 - classification_precision: 0.9030 - classification_recall: 0.9817 - loss: 8.1501 - reshape_bounding_box_iou_metric: 0.0000e+00 - reshape_bounding_box_loss: 1.0000 - val_classification_AUC: 0.2166 - val_classification_f1_score: 0.5597 - val_classification_loss: -2.7220 - val_classification_precision: 0.9291 - val_classification_recall: 0.9468 - val_loss: 7.3617 - val_reshape_bounding_box_iou_metric: 0.0000e+00 - val_reshape_bounding_box_loss: 1.0000 - learning_rate: 1.0000e-04\n",
      "Epoch 4/5\n",
      "\u001b[1m7/7\u001b[0m \u001b[32m━━━━━━━━━━━━━━━━━━━━\u001b[0m\u001b[37m\u001b[0m \u001b[1m0s\u001b[0m 34ms/step - classification_AUC: 0.2600 - classification_f1_score: 0.5791 - classification_loss: -3.0063 - classification_precision: 0.9101 - classification_recall: 0.9810 - loss: 7.2770 - reshape_bounding_box_iou_metric: 0.0000e+00 - reshape_bounding_box_loss: 1.0000\n",
      "Epoch 4: val_loss improved from 7.36171 to 6.90061, saving model to output/checkpoints/ckpt_4.keras\n"
     ]
    },
    {
     "name": "stderr",
     "output_type": "stream",
     "text": [
      "WARNING:absl:You are saving your model as an HDF5 file via `model.save()` or `keras.saving.save_model(model)`. This file format is considered legacy. We recommend using instead the native Keras format, e.g. `model.save('my_model.keras')` or `keras.saving.save_model(model, 'my_model.keras')`. \n"
     ]
    },
    {
     "name": "stdout",
     "output_type": "stream",
     "text": [
      "\u001b[1m7/7\u001b[0m \u001b[32m━━━━━━━━━━━━━━━━━━━━\u001b[0m\u001b[37m\u001b[0m \u001b[1m2s\u001b[0m 381ms/step - classification_AUC: 0.2635 - classification_f1_score: 0.5777 - classification_loss: -2.9947 - classification_precision: 0.9104 - classification_recall: 0.9799 - loss: 7.2541 - reshape_bounding_box_iou_metric: 0.0000e+00 - reshape_bounding_box_loss: 1.0000 - val_classification_AUC: 0.2152 - val_classification_f1_score: 0.5773 - val_classification_loss: -3.0807 - val_classification_precision: 0.9267 - val_classification_recall: 0.9620 - val_loss: 6.9006 - val_reshape_bounding_box_iou_metric: 0.0000e+00 - val_reshape_bounding_box_loss: 1.0000 - learning_rate: 1.0000e-04\n",
      "Epoch 5/5\n",
      "\u001b[1m7/7\u001b[0m \u001b[32m━━━━━━━━━━━━━━━━━━━━\u001b[0m\u001b[37m\u001b[0m \u001b[1m0s\u001b[0m 34ms/step - classification_AUC: 0.2562 - classification_f1_score: 0.5720 - classification_loss: -4.1956 - classification_precision: 0.9198 - classification_recall: 0.9850 - loss: 5.9721 - reshape_bounding_box_iou_metric: 0.0000e+00 - reshape_bounding_box_loss: 1.0000\n",
      "Epoch 5: val_loss improved from 6.90061 to 2.98909, saving model to output/checkpoints/ckpt_5.keras\n"
     ]
    },
    {
     "name": "stderr",
     "output_type": "stream",
     "text": [
      "WARNING:absl:You are saving your model as an HDF5 file via `model.save()` or `keras.saving.save_model(model)`. This file format is considered legacy. We recommend using instead the native Keras format, e.g. `model.save('my_model.keras')` or `keras.saving.save_model(model, 'my_model.keras')`. \n"
     ]
    },
    {
     "name": "stdout",
     "output_type": "stream",
     "text": [
      "\u001b[1m7/7\u001b[0m \u001b[32m━━━━━━━━━━━━━━━━━━━━\u001b[0m\u001b[37m\u001b[0m \u001b[1m2s\u001b[0m 348ms/step - classification_AUC: 0.2627 - classification_f1_score: 0.5739 - classification_loss: -4.1615 - classification_precision: 0.9185 - classification_recall: 0.9839 - loss: 5.9774 - reshape_bounding_box_iou_metric: 0.0000e+00 - reshape_bounding_box_loss: 1.0000 - val_classification_AUC: 0.2134 - val_classification_f1_score: 0.6437 - val_classification_loss: -6.5464 - val_classification_precision: 0.9291 - val_classification_recall: 0.9468 - val_loss: 2.9891 - val_reshape_bounding_box_iou_metric: 0.0000e+00 - val_reshape_bounding_box_loss: 1.0000 - learning_rate: 1.0000e-04\n"
     ]
    },
    {
     "name": "stderr",
     "output_type": "stream",
     "text": [
      "2025-03-12 12:54:12.414620: I tensorflow/core/framework/local_rendezvous.cc:407] Local rendezvous is aborting with status: OUT_OF_RANGE: End of sequence\n",
      "2025-03-12 12:54:14.594232: I external/local_xla/xla/stream_executor/cuda/subprocess_compilation.cc:346] ptxas warning : Registers are spilled to local memory in function 'gemm_fusion_dot_1709', 8 bytes spill stores, 8 bytes spill loads\n",
      "\n",
      "2025-03-12 12:54:14.817924: I external/local_xla/xla/stream_executor/cuda/subprocess_compilation.cc:346] ptxas warning : Registers are spilled to local memory in function 'gemm_fusion_dot_1716', 212 bytes spill stores, 244 bytes spill loads\n",
      "\n",
      "2025-03-12 12:54:14.982667: I external/local_xla/xla/stream_executor/cuda/subprocess_compilation.cc:346] ptxas warning : Registers are spilled to local memory in function 'gemm_fusion_dot_1716', 4 bytes spill stores, 4 bytes spill loads\n",
      "\n",
      "2025-03-12 12:54:14.997987: I external/local_xla/xla/stream_executor/cuda/subprocess_compilation.cc:346] ptxas warning : Registers are spilled to local memory in function 'gemm_fusion_dot_1716_0', 208 bytes spill stores, 392 bytes spill loads\n",
      "\n",
      "2025-03-12 12:54:15.115379: I external/local_xla/xla/stream_executor/cuda/subprocess_compilation.cc:346] ptxas warning : Registers are spilled to local memory in function 'gemm_fusion_dot', 124 bytes spill stores, 124 bytes spill loads\n",
      "\n",
      "2025-03-12 12:54:15.243735: I external/local_xla/xla/stream_executor/cuda/subprocess_compilation.cc:346] ptxas warning : Registers are spilled to local memory in function 'gemm_fusion_dot_1716', 404 bytes spill stores, 404 bytes spill loads\n",
      "\n",
      "2025-03-12 12:54:15.255286: I external/local_xla/xla/stream_executor/cuda/subprocess_compilation.cc:346] ptxas warning : Registers are spilled to local memory in function 'gemm_fusion_dot', 256 bytes spill stores, 256 bytes spill loads\n",
      "\n",
      "2025-03-12 12:54:15.275270: I external/local_xla/xla/stream_executor/cuda/subprocess_compilation.cc:346] ptxas warning : Registers are spilled to local memory in function 'gemm_fusion_dot_1716', 428 bytes spill stores, 532 bytes spill loads\n",
      "\n"
     ]
    },
    {
     "name": "stdout",
     "output_type": "stream",
     "text": [
      "\u001b[1m1/1\u001b[0m \u001b[32m━━━━━━━━━━━━━━━━━━━━\u001b[0m\u001b[37m\u001b[0m \u001b[1m4s\u001b[0m 4s/step\n"
     ]
    },
    {
     "name": "stderr",
     "output_type": "stream",
     "text": [
      "2025/03/12 12:54:16 WARNING mlflow.models.signature: Failed to infer schema for outputs. Setting schema to `Schema([ColSpec(type=AnyType())]` as default. To see the full traceback, set logging level to DEBUG.\n",
      "2025/03/12 12:54:23 WARNING mlflow.utils.environment: Encountered an unexpected error while inferring pip requirements (model URI: /tmp/tmp8ooisomv/model, flavor: tensorflow). Fall back to return ['tensorflow==2.19.0', 'cloudpickle==3.1.1']. Set logging level to DEBUG to see the full traceback. \n",
      "2025/03/12 12:54:23 WARNING mlflow.utils.environment: Failed to resolve installed pip version. ``pip`` will be added to conda.yaml environment spec without a version specifier.\n"
     ]
    }
   ],
   "source": [
    "import mlflow\n",
    "\n",
    "mlflow.set_experiment(\"/brain-tumor-resnet50\")\n",
    "mlflow.tensorflow.autolog(log_models=True, log_datasets=False)\n",
    "\n",
    "history = model.fit(\n",
    "    train_ds,\n",
    "    epochs=EPOCHS,\n",
    "    validation_data=valid_ds,\n",
    "    batch_size=BATCH_SIZE,\n",
    "    callbacks=[callbacks],\n",
    ")"
   ]
  },
  {
   "cell_type": "markdown",
   "metadata": {},
   "source": [
    "## Model Evaluation"
   ]
  },
  {
   "cell_type": "markdown",
   "metadata": {},
   "source": [
    "### Testing Datasets setup"
   ]
  },
  {
   "cell_type": "code",
   "execution_count": 60,
   "metadata": {},
   "outputs": [
    {
     "data": {
      "text/plain": [
       "(100, 100, 100)"
      ]
     },
     "execution_count": 60,
     "metadata": {},
     "output_type": "execute_result"
    }
   ],
   "source": [
    "\n",
    "prepare_test_dataset = AnnotationProcessor(annotation_file= str(TEST_DIR/'_annotations.csv'))\n",
    "_class_map = {v: k for k, v in enumerate(CLASS_NAME)}\n",
    "test_image_paths, test_class_ids, test_bboxes = prepare_test_dataset.process_annotations(image_dir=TEST_DIR, class_id_map=_class_map)\n",
    "\n",
    "len(test_image_paths), len(test_class_ids), len(test_bboxes)"
   ]
  },
  {
   "cell_type": "code",
   "execution_count": 61,
   "metadata": {},
   "outputs": [],
   "source": [
    "test_padded_class_ids, test_padded_bbx = pad_cls_id_bbx(test_class_ids, test_bboxes)"
   ]
  },
  {
   "cell_type": "code",
   "execution_count": 62,
   "metadata": {},
   "outputs": [],
   "source": [
    "test_datasets = tf.data.Dataset.from_tensor_slices((test_image_paths,\n",
    "                                               test_padded_class_ids,\n",
    "                                               test_padded_bbx))\n",
    "\n",
    "test_ds = test_datasets.map(load_dataset, num_parallel_calls=tf.data.AUTOTUNE)\n",
    "test_ds = test_ds.repeat()\\\n",
    "                .batch(BATCH_SIZE, drop_remainder=True)\\\n",
    "                . map(preprocess, num_parallel_calls=tf.data.AUTOTUNE)\\\n",
    "                .prefetch(tf.data.AUTOTUNE)"
   ]
  },
  {
   "cell_type": "code",
   "execution_count": 63,
   "metadata": {},
   "outputs": [
    {
     "name": "stdout",
     "output_type": "stream",
     "text": [
      "\u001b[1m1/1\u001b[0m \u001b[32m━━━━━━━━━━━━━━━━━━━━\u001b[0m\u001b[37m\u001b[0m \u001b[1m0s\u001b[0m 89ms/step - classification_AUC: 0.1615 - classification_f1_score: 0.7053 - classification_loss: -8.1215 - classification_precision: 0.8864 - classification_recall: 0.9750 - loss: 1.9951 - reshape_bounding_box_iou_metric: 0.0000e+00 - reshape_bounding_box_loss: 1.0000\n",
      "Testing accuracy:  {'classification_AUC': 0.1614583283662796, 'classification_f1_score': 0.7052631378173828, 'classification_loss': -8.1214599609375, 'classification_precision': 0.8863636255264282, 'classification_recall': 0.9750000238418579, 'loss': 1.9950647354125977, 'reshape_bounding_box_iou_metric': 0.0, 'reshape_bounding_box_loss': 1.0}\n"
     ]
    }
   ],
   "source": [
    "results = model.evaluate(test_ds, return_dict=True, steps=1)\n",
    "print(\"Testing accuracy: \", results)"
   ]
  },
  {
   "cell_type": "code",
   "execution_count": 64,
   "metadata": {},
   "outputs": [
    {
     "data": {
      "text/plain": [
       "{'classification_AUC': 0.1614583283662796,\n",
       " 'classification_f1_score': 0.7052631378173828,\n",
       " 'classification_loss': -8.1214599609375,\n",
       " 'classification_precision': 0.8863636255264282,\n",
       " 'classification_recall': 0.9750000238418579,\n",
       " 'loss': 1.9950647354125977,\n",
       " 'reshape_bounding_box_iou_metric': 0.0,\n",
       " 'reshape_bounding_box_loss': 1.0}"
      ]
     },
     "execution_count": 64,
     "metadata": {},
     "output_type": "execute_result"
    }
   ],
   "source": [
    "results"
   ]
  },
  {
   "cell_type": "code",
   "execution_count": 65,
   "metadata": {},
   "outputs": [],
   "source": [
    "def plot_metrics(metric_name, title, ylim=1):\n",
    "  plt.title(title)\n",
    "  plt.ylim(0,ylim)\n",
    "  plt.xlabel(\"Epochs\")\n",
    "  plt.legend([metric_name, 'val_' + metric_name])\n",
    "  plt.plot(history.history[metric_name],color='blue',label=metric_name)\n",
    "  plt.plot(history.history['val_' + metric_name],color='green',label='val_' + metric_name)"
   ]
  },
  {
   "cell_type": "code",
   "execution_count": 67,
   "metadata": {},
   "outputs": [
    {
     "data": {
      "image/png": "[encoded data removed]",
      "text/plain": [
       "<Figure size 640x480 with 1 Axes>"
      ]
     },
     "metadata": {},
     "output_type": "display_data"
    }
   ],
   "source": [
    "plot_metrics(\"loss\", \"val_loss\", ylim=0.2)\n",
    "plot_metrics(\"classification_f1_score\", \"classification_f1_score\", ylim=0.2)"
   ]
  },
  {
   "cell_type": "code",
   "execution_count": 68,
   "metadata": {},
   "outputs": [
    {
     "ename": "KeyError",
     "evalue": "'bounding_box_loss'",
     "output_type": "error",
     "traceback": [
      "\u001b[31m---------------------------------------------------------------------------\u001b[39m",
      "\u001b[31mKeyError\u001b[39m                                  Traceback (most recent call last)",
      "\u001b[36mCell\u001b[39m\u001b[36m \u001b[39m\u001b[32mIn[68]\u001b[39m\u001b[32m, line 2\u001b[39m\n\u001b[32m      1\u001b[39m plot_metrics(\u001b[33m\"\u001b[39m\u001b[33mclassification_loss\u001b[39m\u001b[33m\"\u001b[39m, \u001b[33m\"\u001b[39m\u001b[33mClassification Loss\u001b[39m\u001b[33m\"\u001b[39m)\n\u001b[32m----> \u001b[39m\u001b[32m2\u001b[39m \u001b[43mplot_metrics\u001b[49m\u001b[43m(\u001b[49m\u001b[33;43m\"\u001b[39;49m\u001b[33;43mbounding_box_loss\u001b[39;49m\u001b[33;43m\"\u001b[39;49m\u001b[43m,\u001b[49m\u001b[43m \u001b[49m\u001b[33;43m\"\u001b[39;49m\u001b[33;43mBounding Box Loss\u001b[39;49m\u001b[33;43m\"\u001b[39;49m\u001b[43m)\u001b[49m\n",
      "\u001b[36mCell\u001b[39m\u001b[36m \u001b[39m\u001b[32mIn[65]\u001b[39m\u001b[32m, line 6\u001b[39m, in \u001b[36mplot_metrics\u001b[39m\u001b[34m(metric_name, title, ylim)\u001b[39m\n\u001b[32m      4\u001b[39m plt.xlabel(\u001b[33m\"\u001b[39m\u001b[33mEpochs\u001b[39m\u001b[33m\"\u001b[39m)\n\u001b[32m      5\u001b[39m plt.legend([metric_name, \u001b[33m'\u001b[39m\u001b[33mval_\u001b[39m\u001b[33m'\u001b[39m + metric_name])\n\u001b[32m----> \u001b[39m\u001b[32m6\u001b[39m plt.plot(\u001b[43mhistory\u001b[49m\u001b[43m.\u001b[49m\u001b[43mhistory\u001b[49m\u001b[43m[\u001b[49m\u001b[43mmetric_name\u001b[49m\u001b[43m]\u001b[49m,color=\u001b[33m'\u001b[39m\u001b[33mblue\u001b[39m\u001b[33m'\u001b[39m,label=metric_name)\n\u001b[32m      7\u001b[39m plt.plot(history.history[\u001b[33m'\u001b[39m\u001b[33mval_\u001b[39m\u001b[33m'\u001b[39m + metric_name],color=\u001b[33m'\u001b[39m\u001b[33mgreen\u001b[39m\u001b[33m'\u001b[39m,label=\u001b[33m'\u001b[39m\u001b[33mval_\u001b[39m\u001b[33m'\u001b[39m + metric_name)\n",
      "\u001b[31mKeyError\u001b[39m: 'bounding_box_loss'"
     ]
    },
    {
     "data": {
      "image/png": "[encoded data removed]",
      "text/plain": [
       "<Figure size 640x480 with 1 Axes>"
      ]
     },
     "metadata": {},
     "output_type": "display_data"
    }
   ],
   "source": [
    "plot_metrics(\"classification_loss\", \"Classification Loss\")\n",
    "plot_metrics(\"bounding_box_loss\", \"Bounding Box Loss\")"
   ]
  }
 ],
 "metadata": {
  "kernelspec": {
   "display_name": ".venv",
   "language": "python",
   "name": "python3"
  },
  "language_info": {
   "codemirror_mode": {
    "name": "ipython",
    "version": 3
   },
   "file_extension": ".py",
   "mimetype": "text/x-python",
   "name": "python",
   "nbconvert_exporter": "python",
   "pygments_lexer": "ipython3",
   "version": "3.12.9"
  }
 },
 "nbformat": 4,
 "nbformat_minor": 2
}
