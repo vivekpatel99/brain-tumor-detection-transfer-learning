{
 "cells": [
  {
   "cell_type": "code",
   "execution_count": 1,
   "metadata": {},
   "outputs": [
    {
     "name": "stderr",
     "output_type": "stream",
     "text": [
      "2025-03-15 13:46:29.451337: E external/local_xla/xla/stream_executor/cuda/cuda_fft.cc:467] Unable to register cuFFT factory: Attempting to register factory for plugin cuFFT when one has already been registered\n",
      "WARNING: All log messages before absl::InitializeLog() is called are written to STDERR\n",
      "E0000 00:00:1742046389.459342  296080 cuda_dnn.cc:8579] Unable to register cuDNN factory: Attempting to register factory for plugin cuDNN when one has already been registered\n",
      "E0000 00:00:1742046389.461762  296080 cuda_blas.cc:1407] Unable to register cuBLAS factory: Attempting to register factory for plugin cuBLAS when one has already been registered\n",
      "W0000 00:00:1742046389.469765  296080 computation_placer.cc:177] computation placer already registered. Please check linkage and avoid linking the same target more than once.\n",
      "W0000 00:00:1742046389.469774  296080 computation_placer.cc:177] computation placer already registered. Please check linkage and avoid linking the same target more than once.\n",
      "W0000 00:00:1742046389.469776  296080 computation_placer.cc:177] computation placer already registered. Please check linkage and avoid linking the same target more than once.\n",
      "W0000 00:00:1742046389.469777  296080 computation_placer.cc:177] computation placer already registered. Please check linkage and avoid linking the same target more than once.\n",
      "2025-03-15 13:46:29.473356: I tensorflow/core/platform/cpu_feature_guard.cc:210] This TensorFlow binary is optimized to use available CPU instructions in performance-critical operations.\n",
      "To enable the following instructions: AVX2 FMA, in other operations, rebuild TensorFlow with the appropriate compiler flags.\n"
     ]
    }
   ],
   "source": [
    "import tensorflow as tf\n"
   ]
  },
  {
   "cell_type": "code",
   "execution_count": 2,
   "metadata": {},
   "outputs": [
    {
     "name": "stderr",
     "output_type": "stream",
     "text": [
      "I0000 00:00:1742046393.326725  296080 gpu_device.cc:2019] Created device /job:localhost/replica:0/task:0/device:GPU:0 with 7213 MB memory:  -> device: 0, name: NVIDIA GeForce RTX 3080, pci bus id: 0000:0a:00.0, compute capability: 8.6\n"
     ]
    },
    {
     "data": {
      "text/plain": [
       "(<tf.Tensor: shape=(3, 4), dtype=float32, numpy=\n",
       " array([[0.31654677, 0.5151515 , 0.58992803, 0.9015151 ],\n",
       "        [0.28057554, 0.5       , 0.6906475 , 0.90909094],\n",
       "        [0.        , 0.        , 0.        , 0.        ]], dtype=float32)>,\n",
       " TensorShape([3, 4]))"
      ]
     },
     "execution_count": 2,
     "metadata": {},
     "output_type": "execute_result"
    }
   ],
   "source": [
    "ip_bbox = tf.constant([[0.31654677, 0.5151515  ,0.58992803, 0.9015151 ],\n",
    "                       [0.28057554, 0.5 ,       0.6906475 , 0.90909094],\n",
    "                       [0.,         0. ,        0.     ,    0.        ],\n",
    "                       ], dtype=tf.float32)\n",
    "ip_bbox, ip_bbox.shape"
   ]
  },
  {
   "cell_type": "code",
   "execution_count": 3,
   "metadata": {},
   "outputs": [
    {
     "data": {
      "text/plain": [
       "<tf.Tensor: shape=(3,), dtype=float32, numpy=array([0.31654677, 0.28057554, 0.        ], dtype=float32)>"
      ]
     },
     "execution_count": 3,
     "metadata": {},
     "output_type": "execute_result"
    }
   ],
   "source": [
    "ip_bbox[..., 0]"
   ]
  },
  {
   "cell_type": "code",
   "execution_count": 4,
   "metadata": {},
   "outputs": [
    {
     "data": {
      "text/plain": [
       "(<tf.Tensor: shape=(3,), dtype=bool, numpy=array([False, False,  True])>,\n",
       " <tf.Tensor: shape=(1,), dtype=int64, numpy=array([2])>)"
      ]
     },
     "execution_count": 4,
     "metadata": {},
     "output_type": "execute_result"
    }
   ],
   "source": [
    "all_zero_rows = tf.reduce_all(ip_bbox == 0, axis=1) \n",
    "zero_row_indices = tf.where(all_zero_rows)[:, 0]  # Get indices from tf.where\n",
    "all_zero_rows, zero_row_indices"
   ]
  },
  {
   "cell_type": "code",
   "execution_count": 5,
   "metadata": {},
   "outputs": [
    {
     "data": {
      "text/plain": [
       "<tf.Tensor: shape=(1,), dtype=int64, numpy=array([2])>"
      ]
     },
     "execution_count": 5,
     "metadata": {},
     "output_type": "execute_result"
    }
   ],
   "source": [
    "tf.where(all_zero_rows)[:, 0]"
   ]
  },
  {
   "cell_type": "code",
   "execution_count": 6,
   "metadata": {},
   "outputs": [
    {
     "name": "stdout",
     "output_type": "stream",
     "text": [
      "Indices of all-zero rows: [0]\n",
      "Filtered bounding boxes:\n",
      "[[0.31654677 0.5151515  0.58992803 0.9015151 ]\n",
      " [0.28057554 0.5        0.6906475  0.90909094]]\n"
     ]
    }
   ],
   "source": [
    "import tensorflow as tf\n",
    "import numpy as np\n",
    "\n",
    "def find_zero_row_indices(arr):\n",
    "    \"\"\"\n",
    "    Finds the indices of rows that are all zeros in a TensorFlow tensor.\n",
    "\n",
    "    Args:\n",
    "        arr: The TensorFlow tensor.\n",
    "\n",
    "    Returns:\n",
    "        A TensorFlow tensor of indices where the rows are all zeros.\n",
    "    \"\"\"\n",
    "    all_zero_rows = tf.reduce_all(arr == 0, axis=1) #  find all rows that are all zeros\n",
    "    zero_row_indices = tf.where(all_zero_rows)[:, 0]  # Get indices from tf.where\n",
    "    return zero_row_indices\n",
    "\n",
    "def drop_rows_by_indices(arr, indices_to_drop):\n",
    "    \"\"\"\n",
    "    Drops rows from a TensorFlow tensor based on the given indices.\n",
    "\n",
    "    Args:\n",
    "        arr: The TensorFlow tensor.\n",
    "        indices_to_drop: A TensorFlow tensor of indices to drop.\n",
    "\n",
    "    Returns:\n",
    "        A new TensorFlow tensor with the specified rows removed.\n",
    "    \"\"\"\n",
    "    # Create a boolean mask where True means \"keep\" and False means \"drop\"\n",
    "    mask = tf.ones(tf.shape(arr)[0], dtype=tf.bool)\n",
    "    \n",
    "    # Use tf.tensor_scatter_nd_update to set the mask to False at the specified indices\n",
    "    updates = tf.fill(tf.shape(indices_to_drop), False) # create a vector of False\n",
    "    indices = tf.expand_dims(indices_to_drop, axis=1) # add a dimension\n",
    "    mask = tf.tensor_scatter_nd_update(mask, indices, updates) # set the mask to False\n",
    "\n",
    "    # Use boolean indexing to select the rows to keep\n",
    "    return tf.boolean_mask(arr, mask)\n",
    "\n",
    "# Example Usage (to demonstrate the fix):\n",
    "ip_bbox = tf.constant([[0.,         0. ,        0.     ,    0.        ],\n",
    "                        [0.31654677, 0.5151515  ,0.58992803, 0.9015151 ],\n",
    "                       [0.28057554, 0.5 ,       0.6906475 , 0.90909094]\n",
    "], dtype=tf.float32)\n",
    "\n",
    "\n",
    "\n",
    "zero_indices = find_zero_row_indices(ip_bbox)\n",
    "print(f\"Indices of all-zero rows: {zero_indices}\")\n",
    "\n",
    "filtered_bbox = drop_rows_by_indices(ip_bbox, zero_indices)\n",
    "print(f\"Filtered bounding boxes:\\n{filtered_bbox}\")\n"
   ]
  },
  {
   "cell_type": "code",
   "execution_count": 7,
   "metadata": {},
   "outputs": [],
   "source": [
    "def iou_loss(y_true, y_pred):  # Assuming y_true and y_pred are (batch_size, 4)\n",
    "    \"\"\"x_min, y_min, x_max, y_max\n",
    "    \"\"\"\n",
    "    y_true_zero_indices= find_zero_row_indices(y_true)\n",
    "    y_true = drop_rows_by_indices(y_true, y_true_zero_indices)\n",
    "    y_pred = drop_rows_by_indices(y_pred, y_true_zero_indices)\n",
    "\n",
    "    x_min_true = y_true[..., 0]\n",
    "    y_min_true = y_true[..., 1]\n",
    "    x_max_true = y_true[..., 2]\n",
    "    y_max_true = y_true[..., 3]\n",
    "\n",
    "    x_min_pred = y_pred[..., 0]\n",
    "    y_min_pred = y_pred[..., 1]\n",
    "    x_max_pred = y_pred[..., 2]\n",
    "    y_max_pred = y_pred[..., 3]\n",
    "\n",
    "    area_true = (x_max_true - x_min_true) * (y_max_true - y_min_true)\n",
    "    area_pred = (x_max_pred - x_min_pred) * (y_max_pred - y_min_pred)\n",
    "\n",
    "    x_intersect = tf.maximum(x_min_true, x_min_pred)\n",
    "    y_intersect = tf.maximum(y_min_true, y_min_pred)\n",
    "    x_max_intersect = tf.minimum(x_max_true, x_max_pred)\n",
    "    y_max_intersect = tf.minimum(y_max_true, y_max_pred)\n",
    "\n",
    "    area_intersect = tf.maximum(0.0, x_max_intersect - x_intersect) * tf.maximum(0.0, y_max_intersect - y_intersect) # avoid negative values\n",
    "    iou = area_intersect / (area_true + area_pred - area_intersect + 1e-7)  # Add small epsilon for numerical stability\n",
    "    return 1.0 - iou  # We want to *minimize* the loss\n"
   ]
  },
  {
   "cell_type": "code",
   "execution_count": 8,
   "metadata": {},
   "outputs": [],
   "source": [
    "pred_ip_bbox = tf.constant([[0.28057554, 0.5 ,       0.6906475 , 0.90909094 ],\n",
    "                       [0.28057554, 0.5 ,       0.6906475 , 0.90909094],\n",
    "                       [0.28057554, 0.5 ,       0.6906475 , 0.90909094]\n",
    "                   ], dtype=tf.float32)\n",
    "\n",
    "y_trueip_bbox = tf.constant([[0.28057554, 0.5 ,       0.6906475 , 0.90909094 ],\n",
    "                       [0, 0,0,0],\n",
    "                       [0.28057554, 0.5 ,       0.6906475 , 0.90909094]\n",
    "                   ], dtype=tf.float32)"
   ]
  },
  {
   "cell_type": "code",
   "execution_count": 9,
   "metadata": {},
   "outputs": [
    {
     "data": {
      "text/plain": [
       "<tf.Tensor: shape=(2,), dtype=float32, numpy=array([5.9604645e-07, 5.9604645e-07], dtype=float32)>"
      ]
     },
     "execution_count": 9,
     "metadata": {},
     "output_type": "execute_result"
    }
   ],
   "source": [
    "iou_loss(y_trueip_bbox, pred_ip_bbox)"
   ]
  },
  {
   "cell_type": "code",
   "execution_count": 10,
   "metadata": {},
   "outputs": [],
   "source": [
    "def eff_iou_loss(y_true, y_pred):  # Assuming y_true and y_pred are (batch_size, 4)\n",
    "    \"\"\"x_min, y_min, x_max, y_max\n",
    "    \"\"\"\n",
    "    # Create a mask for valid bounding boxes\n",
    "    mask = tf.reduce_any(tf.not_equal(y_true, 0), axis=-1)\n",
    "    mask = tf.cast(mask, dtype=tf.float32)\n",
    "\n",
    "    x_min_true = y_true[..., 0]\n",
    "    y_min_true = y_true[..., 1]\n",
    "    x_max_true = y_true[..., 2]\n",
    "    y_max_true = y_true[..., 3]\n",
    "\n",
    "    x_min_pred = y_pred[..., 0]\n",
    "    y_min_pred = y_pred[..., 1]\n",
    "    x_max_pred = y_pred[..., 2]\n",
    "    y_max_pred = y_pred[..., 3]\n",
    "\n",
    "    area_true = (x_max_true - x_min_true) * (y_max_true - y_min_true)\n",
    "    area_pred = (x_max_pred - x_min_pred) * (y_max_pred - y_min_pred)\n",
    "\n",
    "    x_intersect = tf.maximum(x_min_true, x_min_pred)\n",
    "    y_intersect = tf.maximum(y_min_true, y_min_pred)\n",
    "    x_max_intersect = tf.minimum(x_max_true, x_max_pred)\n",
    "    y_max_intersect = tf.minimum(y_max_true, y_max_pred)\n",
    "\n",
    "    area_intersect = tf.maximum(0.0, x_max_intersect - x_intersect) * tf.maximum(0.0, y_max_intersect - y_intersect) # avoid negative values\n",
    "    iou = area_intersect / (area_true + area_pred - area_intersect + 1e-7)  # Add small epsilon for numerical stability\n",
    "    # loss = iou #1.0 - iou \n",
    "    # Apply mask and calculate mean loss\n",
    "    # masked_loss = loss * mask\n",
    "    loss = tf.boolean_mask(iou, mask)\n",
    "    return 1- loss #tf.reduce_sum(masked_loss) / (tf.reduce_sum(mask) + 1e-7)"
   ]
  },
  {
   "cell_type": "code",
   "execution_count": 11,
   "metadata": {},
   "outputs": [
    {
     "data": {
      "text/plain": [
       "<tf.Tensor: shape=(2,), dtype=float32, numpy=array([5.9604645e-07, 5.9604645e-07], dtype=float32)>"
      ]
     },
     "execution_count": 11,
     "metadata": {},
     "output_type": "execute_result"
    }
   ],
   "source": [
    "eff_iou_loss(y_trueip_bbox, pred_ip_bbox)"
   ]
  },
  {
   "cell_type": "code",
   "execution_count": 12,
   "metadata": {},
   "outputs": [
    {
     "data": {
      "text/plain": [
       "<tf.Tensor: shape=(3,), dtype=float32, numpy=array([0., 1., 1.], dtype=float32)>"
      ]
     },
     "execution_count": 12,
     "metadata": {},
     "output_type": "execute_result"
    }
   ],
   "source": [
    "# Create a mask for valid bounding boxes\n",
    "mask = tf.reduce_any(tf.not_equal(ip_bbox, 0), axis=-1)\n",
    "mask = tf.cast(mask, dtype=tf.float32)\n",
    "mask "
   ]
  },
  {
   "cell_type": "code",
   "execution_count": 13,
   "metadata": {},
   "outputs": [],
   "source": [
    "def giou_loss(y_true, y_pred):\n",
    "    y_true = tf.cast(y_true, dtype=tf.float32)\n",
    "    y_pred = tf.cast(y_pred, dtype=tf.float32)\n",
    "    \n",
    "    # Assuming y_true and y_pred are (batch_size, num_classes, 4)\n",
    "    \n",
    "    # Create a mask for valid bounding boxes\n",
    "    mask = tf.reduce_any(tf.not_equal(y_true, 0), axis=-1)\n",
    "    mask = tf.cast(mask, dtype=tf.float32)\n",
    "    \n",
    "    # Calculate IoU\n",
    "    intersect_mins = tf.maximum(y_true[..., :2], y_pred[..., :2])\n",
    "    intersect_maxes = tf.minimum(y_true[..., 2:], y_pred[..., 2:])\n",
    "    intersect_wh = tf.maximum(intersect_maxes - intersect_mins, 0.)\n",
    "    intersect_area = intersect_wh[..., 0] * intersect_wh[..., 1]\n",
    "    \n",
    "    true_area = (y_true[..., 2] - y_true[..., 0]) * (y_true[..., 3] - y_true[..., 1])\n",
    "    pred_area = (y_pred[..., 2] - y_pred[..., 0]) * (y_pred[..., 3] - y_pred[..., 1])\n",
    "    \n",
    "    union_area = true_area + pred_area - intersect_area\n",
    "    iou = intersect_area / (union_area + 1e-7)\n",
    "    \n",
    "    # Calculate GIoU\n",
    "    enclose_mins = tf.minimum(y_true[..., :2], y_pred[..., :2])\n",
    "    enclose_maxes = tf.maximum(y_true[..., 2:], y_pred[..., 2:])\n",
    "    enclose_wh = tf.maximum(enclose_maxes - enclose_mins, 0.)\n",
    "    enclose_area = enclose_wh[..., 0] * enclose_wh[..., 1]\n",
    "    \n",
    "    giou = iou - (enclose_area - union_area) / (enclose_area + 1e-7)\n",
    "    loss = 1 - giou\n",
    "    \n",
    "    # Apply mask and calculate mean loss\n",
    "    masked_loss = loss * mask\n",
    "    return tf.reduce_sum(masked_loss) / (tf.reduce_sum(mask) + 1e-7)"
   ]
  },
  {
   "cell_type": "code",
   "execution_count": 16,
   "metadata": {},
   "outputs": [],
   "source": [
    "def adapted_giou_loss(y_true, y_pred):\n",
    "    y_true = tf.cast(y_true, dtype=tf.float32)\n",
    "    y_pred = tf.cast(y_pred, dtype=tf.float32)\n",
    "\n",
    "    # Create a mask for valid bounding boxes\n",
    "    mask = tf.reduce_any(tf.not_equal(y_true, 0), axis=-1)\n",
    "    mask = tf.cast(mask, dtype=tf.float32)\n",
    "    \n",
    "    # Calculate IoU\n",
    "    # intersect_mins = tf.maximum(y_true[..., :2], y_pred[..., :2])\n",
    "    # intersect_maxes = tf.minimum(y_true[..., 2:], y_pred[..., 2:])\n",
    "    # intersect_wh = tf.maximum(intersect_maxes - intersect_mins, 0.)\n",
    "    # intersect_area = intersect_wh[..., 0]* intersect_wh[..., 1]\n",
    "    \n",
    "    # true_area = (y_true[..., 2] - y_true[..., 0]) * (y_true[..., 3] - y_true[..., 1])\n",
    "    # pred_area = (y_pred[..., 2] - y_pred[..., 0]) * (y_pred[..., 3] - y_pred[..., 1])\n",
    "    \n",
    "    # union_area = (true_area + pred_area) - intersect_area\n",
    "    # iou = intersect_area / (union_area + 1e-7)\n",
    "    x_min_true = y_true[..., 0]\n",
    "    y_min_true = y_true[..., 1]\n",
    "    x_max_true = y_true[..., 2]\n",
    "    y_max_true = y_true[..., 3]\n",
    "\n",
    "    x_min_pred = y_pred[..., 0]\n",
    "    y_min_pred = y_pred[..., 1]\n",
    "    x_max_pred = y_pred[..., 2]\n",
    "    y_max_pred = y_pred[..., 3]\n",
    "\n",
    "    area_true = (x_max_true - x_min_true) * (y_max_true - y_min_true)\n",
    "    area_pred = (x_max_pred - x_min_pred) * (y_max_pred - y_min_pred)\n",
    "\n",
    "    x_intersect = tf.maximum(x_min_true, x_min_pred)\n",
    "    y_intersect = tf.maximum(y_min_true, y_min_pred)\n",
    "    x_max_intersect = tf.minimum(x_max_true, x_max_pred)\n",
    "    y_max_intersect = tf.minimum(y_max_true, y_max_pred)\n",
    "\n",
    "    area_intersect = tf.maximum(0.0, x_max_intersect - x_intersect) * tf.maximum(0.0, y_max_intersect - y_intersect) # avoid negative values\n",
    "    union_area = (area_true + area_pred - area_intersect + 1e-7) \n",
    "    iou = area_intersect / union_area # Add small epsilon for numerical stability\n",
    "\n",
    "    # Calculate GIoU\n",
    "    enclose_mins = tf.minimum(y_true[..., :2], y_pred[..., :2])\n",
    "    enclose_maxes = tf.maximum(y_true[..., 2:], y_pred[..., 2:])\n",
    "    enclose_wh = tf.maximum(enclose_maxes - enclose_mins, 0.)\n",
    "    enclose_area =enclose_wh[..., 0] * enclose_wh[..., 1]\n",
    "    \n",
    "    giou = iou - ((enclose_area - union_area) / (enclose_area + 1e-7))\n",
    "\n",
    "    giou_loss = tf.boolean_mask(giou, mask, axis=0)\n",
    "    return 1-tf.math.reduce_mean (giou_loss)"
   ]
  },
  {
   "cell_type": "code",
   "execution_count": 20,
   "metadata": {},
   "outputs": [],
   "source": [
    "pred_ip_bbox = tf.constant([[0.28057554, 0.5 ,       0.6906475 , 0.90909094 ],\n",
    "                       [0.48057554, 0.5 ,       0.4906475 , 0.70909094],\n",
    "                       [0.68057554, 0.5 ,       0.5906475 , 0.30909094]\n",
    "                   ], dtype=tf.float32)\n",
    "\n",
    "y_trueip_bbox = tf.constant([[0.28057554, 0.5 ,       0.6906475 , 0.90909094 ],\n",
    "                       [0, 0,0,0],\n",
    "                       [0.28057554, 0.5 ,       0.6906475 , 0.90909094]\n",
    "                   ], dtype=tf.float32)"
   ]
  },
  {
   "cell_type": "code",
   "execution_count": 21,
   "metadata": {},
   "outputs": [
    {
     "data": {
      "text/plain": [
       "<tf.Tensor: shape=(), dtype=float32, numpy=0.44883012771606445>"
      ]
     },
     "execution_count": 21,
     "metadata": {},
     "output_type": "execute_result"
    }
   ],
   "source": [
    "adapted_giou_loss(y_trueip_bbox, pred_ip_bbox)"
   ]
  }
 ],
 "metadata": {
  "kernelspec": {
   "display_name": ".venv",
   "language": "python",
   "name": "python3"
  },
  "language_info": {
   "codemirror_mode": {
    "name": "ipython",
    "version": 3
   },
   "file_extension": ".py",
   "mimetype": "text/x-python",
   "name": "python",
   "nbconvert_exporter": "python",
   "pygments_lexer": "ipython3",
   "version": "3.12.3"
  }
 },
 "nbformat": 4,
 "nbformat_minor": 2
}
